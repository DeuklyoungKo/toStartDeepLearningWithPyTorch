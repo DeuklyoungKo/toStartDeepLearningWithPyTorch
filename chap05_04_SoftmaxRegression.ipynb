{
  "nbformat": 4,
  "nbformat_minor": 0,
  "metadata": {
    "colab": {
      "name": "chap05_04_SoftmaxRegression.ipynb",
      "provenance": [],
      "authorship_tag": "ABX9TyNS4qoIwvGs6+DkpsBlt7cN",
      "include_colab_link": true
    },
    "kernelspec": {
      "name": "python3",
      "display_name": "Python 3"
    },
    "language_info": {
      "name": "python"
    }
  },
  "cells": [
    {
      "cell_type": "markdown",
      "metadata": {
        "id": "view-in-github",
        "colab_type": "text"
      },
      "source": [
        "<a href=\"https://colab.research.google.com/github/DeuklyoungKo/toStartDeepLearningWithPyTorch/blob/main/chap05_04_SoftmaxRegression.ipynb\" target=\"_parent\"><img src=\"https://colab.research.google.com/assets/colab-badge.svg\" alt=\"Open In Colab\"/></a>"
      ]
    },
    {
      "cell_type": "code",
      "execution_count": 26,
      "metadata": {
        "colab": {
          "base_uri": "https://localhost:8080/"
        },
        "id": "BweQAP1Z-QLb",
        "outputId": "f36ba8a5-ba46-429c-e58b-3b82f3f07a54"
      },
      "outputs": [
        {
          "output_type": "execute_result",
          "data": {
            "text/plain": [
              "<torch._C.Generator at 0x7fa4eae21910>"
            ]
          },
          "metadata": {},
          "execution_count": 26
        }
      ],
      "source": [
        "import torch\n",
        "import torch.nn as nn\n",
        "import torch.nn.functional as F\n",
        "import torch.optim as optim\n",
        "\n",
        "torch.manual_seed(1)"
      ]
    },
    {
      "cell_type": "code",
      "source": [
        "x_train = [[1, 2, 1, 1],\n",
        "           [2, 1, 3, 2],\n",
        "           [3, 1, 3, 4],\n",
        "           [4, 1, 5, 5],\n",
        "           [1, 7, 5, 5],\n",
        "           [1, 2, 5, 6],\n",
        "           [1, 6, 6, 6],\n",
        "           [1, 7, 7, 7]]\n",
        "y_train = [2, 2, 2, 1, 1, 1, 0, 0]\n",
        "x_train = torch.FloatTensor(x_train)\n",
        "y_train = torch.LongTensor(y_train)\n",
        "print(x_train.shape)\n",
        "print(y_train.shape)"
      ],
      "metadata": {
        "colab": {
          "base_uri": "https://localhost:8080/"
        },
        "id": "L_kOFcqf-YTf",
        "outputId": "d779093e-5fd0-4e08-f98f-87b2dd82b912"
      },
      "execution_count": 27,
      "outputs": [
        {
          "output_type": "stream",
          "name": "stdout",
          "text": [
            "torch.Size([8, 4])\n",
            "torch.Size([8])\n"
          ]
        }
      ]
    },
    {
      "cell_type": "code",
      "source": [
        "y_one_hot = torch.zeros(8, 3)\n",
        "y_one_hot.scatter_(1, y_train.unsqueeze(1), 1)\n",
        "print(y_one_hot.shape)\n",
        "print(y_one_hot)"
      ],
      "metadata": {
        "colab": {
          "base_uri": "https://localhost:8080/"
        },
        "id": "JI0Oe3VaEqs-",
        "outputId": "79974b5a-e302-4451-b9a6-382a619fd043"
      },
      "execution_count": 28,
      "outputs": [
        {
          "output_type": "stream",
          "name": "stdout",
          "text": [
            "torch.Size([8, 3])\n",
            "tensor([[0., 0., 1.],\n",
            "        [0., 0., 1.],\n",
            "        [0., 0., 1.],\n",
            "        [0., 1., 0.],\n",
            "        [0., 1., 0.],\n",
            "        [0., 1., 0.],\n",
            "        [1., 0., 0.],\n",
            "        [1., 0., 0.]])\n"
          ]
        }
      ]
    },
    {
      "cell_type": "code",
      "source": [
        "# 모델 초기화\n",
        "W = torch.zeros((4, 3), requires_grad=True)\n",
        "b = torch.zeros(1, requires_grad=True)\n",
        "# optimizer 설정\n",
        "optimizer = optim.SGD([W, b], lr=0.1)"
      ],
      "metadata": {
        "id": "3Y_sYgbSFgsP"
      },
      "execution_count": 29,
      "outputs": []
    },
    {
      "cell_type": "code",
      "source": [
        "nb_epochs = 3000\n",
        "for epoch in range(nb_epochs + 1):\n",
        "\n",
        "    # 가설\n",
        "    hypothesis = F.softmax(x_train.matmul(W) + b, dim=1) \n",
        "\n",
        "    # 비용 함수\n",
        "    cost = (y_one_hot * -torch.log(hypothesis)).sum(dim=1).mean()\n",
        "\n",
        "    # cost로 H(x) 개선\n",
        "    optimizer.zero_grad()\n",
        "    cost.backward()\n",
        "    optimizer.step()\n",
        "\n",
        "    # 100번마다 로그 출력\n",
        "    if epoch % 100 == 0:\n",
        "        print('Epoch {:4d}/{} Cost: {:.6f}'.format(\n",
        "            epoch, nb_epochs, cost.item()\n",
        "        ))\n"
      ],
      "metadata": {
        "colab": {
          "base_uri": "https://localhost:8080/"
        },
        "id": "uLE5M3CiFtdG",
        "outputId": "5c919255-fc2a-46cc-a1b6-09cacd51f94f"
      },
      "execution_count": 30,
      "outputs": [
        {
          "output_type": "stream",
          "name": "stdout",
          "text": [
            "Epoch    0/3000 Cost: 1.098612\n",
            "Epoch  100/3000 Cost: 0.761050\n",
            "Epoch  200/3000 Cost: 0.689991\n",
            "Epoch  300/3000 Cost: 0.643229\n",
            "Epoch  400/3000 Cost: 0.604117\n",
            "Epoch  500/3000 Cost: 0.568255\n",
            "Epoch  600/3000 Cost: 0.533922\n",
            "Epoch  700/3000 Cost: 0.500291\n",
            "Epoch  800/3000 Cost: 0.466908\n",
            "Epoch  900/3000 Cost: 0.433507\n",
            "Epoch 1000/3000 Cost: 0.399962\n",
            "Epoch 1100/3000 Cost: 0.366378\n",
            "Epoch 1200/3000 Cost: 0.333643\n",
            "Epoch 1300/3000 Cost: 0.307042\n",
            "Epoch 1400/3000 Cost: 0.294653\n",
            "Epoch 1500/3000 Cost: 0.285279\n",
            "Epoch 1600/3000 Cost: 0.276489\n",
            "Epoch 1700/3000 Cost: 0.268222\n",
            "Epoch 1800/3000 Cost: 0.260429\n",
            "Epoch 1900/3000 Cost: 0.253066\n",
            "Epoch 2000/3000 Cost: 0.246098\n",
            "Epoch 2100/3000 Cost: 0.239491\n",
            "Epoch 2200/3000 Cost: 0.233216\n",
            "Epoch 2300/3000 Cost: 0.227248\n",
            "Epoch 2400/3000 Cost: 0.221565\n",
            "Epoch 2500/3000 Cost: 0.216146\n",
            "Epoch 2600/3000 Cost: 0.210973\n",
            "Epoch 2700/3000 Cost: 0.206028\n",
            "Epoch 2800/3000 Cost: 0.201298\n",
            "Epoch 2900/3000 Cost: 0.196768\n",
            "Epoch 3000/3000 Cost: 0.192427\n"
          ]
        }
      ]
    },
    {
      "cell_type": "code",
      "source": [
        "torch.FloatTensor(hypothesis)"
      ],
      "metadata": {
        "colab": {
          "base_uri": "https://localhost:8080/"
        },
        "id": "2DWq_NTXGAeJ",
        "outputId": "ad0cf491-d74a-44d5-c0ee-dd39cbd287e2"
      },
      "execution_count": 31,
      "outputs": [
        {
          "output_type": "execute_result",
          "data": {
            "text/plain": [
              "tensor([[6.2177e-06, 1.2242e-03, 9.9877e-01],\n",
              "        [1.1726e-02, 1.8620e-01, 8.0208e-01],\n",
              "        [1.3310e-08, 2.4698e-01, 7.5302e-01],\n",
              "        [2.6273e-07, 7.4272e-01, 2.5728e-01],\n",
              "        [2.3187e-01, 7.4627e-01, 2.1862e-02],\n",
              "        [1.1332e-01, 8.8668e-01, 1.4585e-10],\n",
              "        [7.8426e-01, 2.1574e-01, 4.9059e-07],\n",
              "        [9.2259e-01, 7.7407e-02, 6.3265e-09]], grad_fn=<AliasBackward0>)"
            ]
          },
          "metadata": {},
          "execution_count": 31
        }
      ]
    }
  ]
}