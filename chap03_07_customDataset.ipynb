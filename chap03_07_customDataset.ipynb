{
  "nbformat": 4,
  "nbformat_minor": 0,
  "metadata": {
    "colab": {
      "name": "chap03_07_customDataset.ipynb",
      "provenance": [],
      "authorship_tag": "ABX9TyMjyD21t2A4qn4Q5e3IO0ah",
      "include_colab_link": true
    },
    "kernelspec": {
      "name": "python3",
      "display_name": "Python 3"
    },
    "language_info": {
      "name": "python"
    }
  },
  "cells": [
    {
      "cell_type": "markdown",
      "metadata": {
        "id": "view-in-github",
        "colab_type": "text"
      },
      "source": [
        "<a href=\"https://colab.research.google.com/github/DeuklyoungKo/toStartDeepLearningWithPyTorch/blob/main/chap03_07_customDataset.ipynb\" target=\"_parent\"><img src=\"https://colab.research.google.com/assets/colab-badge.svg\" alt=\"Open In Colab\"/></a>"
      ]
    },
    {
      "cell_type": "code",
      "execution_count": 1,
      "metadata": {
        "id": "mg6cg4f6V1Qt"
      },
      "outputs": [],
      "source": [
        "import torch\n",
        "import torch.nn.functional as F\n",
        "from torch.utils.data import Dataset\n",
        "from torch.utils.data import DataLoader"
      ]
    },
    {
      "cell_type": "code",
      "source": [
        "class CustomDataset(Dataset):\n",
        "  def __init__(self):\n",
        "    self.x_data = [[73, 80, 75],\n",
        "                   [93, 88, 93],\n",
        "                   [89, 91, 90],\n",
        "                   [96, 98, 100],\n",
        "                   [73, 66, 70]]\n",
        "    self.y_data = [[152], [185], [180], [196], [142]]\n",
        "\n",
        "  def __len__(self):\n",
        "    return len(self.x_data)\n",
        "\n",
        "  def __getitem__(self,idx):\n",
        "    x = torch.FloatTensor(self.x_data[idx])\n",
        "    y = torch.FloatTensor(self.y_data[idx])\n",
        "    return x, y"
      ],
      "metadata": {
        "id": "QV4WeK9Rz9TA"
      },
      "execution_count": 2,
      "outputs": []
    },
    {
      "cell_type": "code",
      "source": [
        "dataset = CustomDataset()\n",
        "dataloader = DataLoader(dataset, batch_size=2, shuffle=True)\n",
        "\n",
        "model = torch.nn.Linear(3,1)\n",
        "optimizer = torch.optim.SGD(model.parameters(), lr=1e-5)"
      ],
      "metadata": {
        "id": "ZiOg2jGS0olv"
      },
      "execution_count": 3,
      "outputs": []
    },
    {
      "cell_type": "code",
      "source": [
        "nb_epochs = 20\n",
        "for epoch in range(nb_epochs + 1):\n",
        "  for batch_idx, samples in enumerate(dataloader):\n",
        "    x_train, y_train = samples\n",
        "    prediction = model(x_train)\n",
        "\n",
        "    cost = F.mse_loss(prediction, y_train)\n",
        "\n",
        "    optimizer.zero_grad()\n",
        "    cost.backward()\n",
        "    optimizer.step()\n",
        "\n",
        "    print('Epoch {:4d}/{} Batch {}/{} Cost: {:6f}'.format(\n",
        "        epoch, nb_epochs, batch_idx+1, len(dataloader),\n",
        "        cost.item()\n",
        "    ))"
      ],
      "metadata": {
        "colab": {
          "base_uri": "https://localhost:8080/"
        },
        "id": "gH6v8DQ507oV",
        "outputId": "3c21a4bb-31af-49e2-c5aa-16656c4a4f1b"
      },
      "execution_count": 6,
      "outputs": [
        {
          "output_type": "stream",
          "name": "stdout",
          "text": [
            "Epoch    0/20 Batch 1/3 Cost: 30131.832031\n",
            "Epoch    0/20 Batch 2/3 Cost: 7310.464355\n",
            "Epoch    0/20 Batch 3/3 Cost: 3734.289551\n",
            "Epoch    1/20 Batch 1/3 Cost: 723.126099\n",
            "Epoch    1/20 Batch 2/3 Cost: 305.002869\n",
            "Epoch    1/20 Batch 3/3 Cost: 36.174896\n",
            "Epoch    2/20 Batch 1/3 Cost: 19.250917\n",
            "Epoch    2/20 Batch 2/3 Cost: 18.049486\n",
            "Epoch    2/20 Batch 3/3 Cost: 6.388392\n",
            "Epoch    3/20 Batch 1/3 Cost: 0.977362\n",
            "Epoch    3/20 Batch 2/3 Cost: 1.486756\n",
            "Epoch    3/20 Batch 3/3 Cost: 0.675318\n",
            "Epoch    4/20 Batch 1/3 Cost: 0.518032\n",
            "Epoch    4/20 Batch 2/3 Cost: 1.573029\n",
            "Epoch    4/20 Batch 3/3 Cost: 0.257595\n",
            "Epoch    5/20 Batch 1/3 Cost: 0.516708\n",
            "Epoch    5/20 Batch 2/3 Cost: 0.713524\n",
            "Epoch    5/20 Batch 3/3 Cost: 2.120895\n",
            "Epoch    6/20 Batch 1/3 Cost: 1.617497\n",
            "Epoch    6/20 Batch 2/3 Cost: 0.630322\n",
            "Epoch    6/20 Batch 3/3 Cost: 0.113985\n",
            "Epoch    7/20 Batch 1/3 Cost: 1.435749\n",
            "Epoch    7/20 Batch 2/3 Cost: 1.530090\n",
            "Epoch    7/20 Batch 3/3 Cost: 0.040827\n",
            "Epoch    8/20 Batch 1/3 Cost: 1.078957\n",
            "Epoch    8/20 Batch 2/3 Cost: 1.047492\n",
            "Epoch    8/20 Batch 3/3 Cost: 0.174290\n",
            "Epoch    9/20 Batch 1/3 Cost: 1.272324\n",
            "Epoch    9/20 Batch 2/3 Cost: 0.541237\n",
            "Epoch    9/20 Batch 3/3 Cost: 1.664043\n",
            "Epoch   10/20 Batch 1/3 Cost: 0.040768\n",
            "Epoch   10/20 Batch 2/3 Cost: 2.185309\n",
            "Epoch   10/20 Batch 3/3 Cost: 1.974407\n",
            "Epoch   11/20 Batch 1/3 Cost: 2.261910\n",
            "Epoch   11/20 Batch 2/3 Cost: 1.097951\n",
            "Epoch   11/20 Batch 3/3 Cost: 0.016743\n",
            "Epoch   12/20 Batch 1/3 Cost: 1.868832\n",
            "Epoch   12/20 Batch 2/3 Cost: 1.274935\n",
            "Epoch   12/20 Batch 3/3 Cost: 0.025435\n",
            "Epoch   13/20 Batch 1/3 Cost: 0.392459\n",
            "Epoch   13/20 Batch 2/3 Cost: 2.434367\n",
            "Epoch   13/20 Batch 3/3 Cost: 0.231628\n",
            "Epoch   14/20 Batch 1/3 Cost: 0.058333\n",
            "Epoch   14/20 Batch 2/3 Cost: 1.548213\n",
            "Epoch   14/20 Batch 3/3 Cost: 2.403503\n",
            "Epoch   15/20 Batch 1/3 Cost: 1.088971\n",
            "Epoch   15/20 Batch 2/3 Cost: 1.162997\n",
            "Epoch   15/20 Batch 3/3 Cost: 0.146674\n",
            "Epoch   16/20 Batch 1/3 Cost: 0.841390\n",
            "Epoch   16/20 Batch 2/3 Cost: 1.020495\n",
            "Epoch   16/20 Batch 3/3 Cost: 1.281467\n",
            "Epoch   17/20 Batch 1/3 Cost: 1.449110\n",
            "Epoch   17/20 Batch 2/3 Cost: 0.175478\n",
            "Epoch   17/20 Batch 3/3 Cost: 0.975072\n",
            "Epoch   18/20 Batch 1/3 Cost: 1.508089\n",
            "Epoch   18/20 Batch 2/3 Cost: 0.411294\n",
            "Epoch   18/20 Batch 3/3 Cost: 0.309713\n",
            "Epoch   19/20 Batch 1/3 Cost: 1.248675\n",
            "Epoch   19/20 Batch 2/3 Cost: 1.552323\n",
            "Epoch   19/20 Batch 3/3 Cost: 0.042767\n",
            "Epoch   20/20 Batch 1/3 Cost: 0.021144\n",
            "Epoch   20/20 Batch 2/3 Cost: 1.059325\n",
            "Epoch   20/20 Batch 3/3 Cost: 2.070576\n"
          ]
        }
      ]
    },
    {
      "cell_type": "code",
      "source": [
        "new_var = torch.FloatTensor([[73, 80, 75]])\n",
        "pred_y = model(new_var)\n",
        "print(\"훈련 후 입력이 73, 80, 75일 때의 예측값 : \", pred_y)"
      ],
      "metadata": {
        "colab": {
          "base_uri": "https://localhost:8080/"
        },
        "id": "z5RnCjSh19Ce",
        "outputId": "8ec06730-6e75-4fcf-bae1-ec43bd73cd54"
      },
      "execution_count": 7,
      "outputs": [
        {
          "output_type": "stream",
          "name": "stdout",
          "text": [
            "훈련 후 입력이 73, 80, 75일 때의 예측값 :  tensor([[152.5337]], grad_fn=<AddmmBackward0>)\n"
          ]
        }
      ]
    }
  ]
}