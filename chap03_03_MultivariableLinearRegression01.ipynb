{
  "nbformat": 4,
  "nbformat_minor": 0,
  "metadata": {
    "colab": {
      "name": "chap03_03_MultivariableLinearRegression01.ipynb",
      "provenance": [],
      "collapsed_sections": [],
      "authorship_tag": "ABX9TyPthpoqXFcm9nMhG189TLoo",
      "include_colab_link": true
    },
    "kernelspec": {
      "name": "python3",
      "display_name": "Python 3"
    },
    "language_info": {
      "name": "python"
    }
  },
  "cells": [
    {
      "cell_type": "markdown",
      "metadata": {
        "id": "view-in-github",
        "colab_type": "text"
      },
      "source": [
        "<a href=\"https://colab.research.google.com/github/DeuklyoungKo/toStartDeepLearningWithPyTorch/blob/main/chap03_03_MultivariableLinearRegression01.ipynb\" target=\"_parent\"><img src=\"https://colab.research.google.com/assets/colab-badge.svg\" alt=\"Open In Colab\"/></a>"
      ]
    },
    {
      "cell_type": "code",
      "source": [
        "import torch\n",
        "import torch.nn as nn\n",
        "import torch.nn.functional as F\n",
        "import torch.optim as optim\n",
        "import numpy as np\n",
        "\n",
        "torch.manual_seed(1)"
      ],
      "metadata": {
        "colab": {
          "base_uri": "https://localhost:8080/"
        },
        "id": "gglJSkPYk0Ii",
        "outputId": "ef31b012-e035-45a2-ebc8-9fcea849985f"
      },
      "execution_count": 16,
      "outputs": [
        {
          "output_type": "execute_result",
          "data": {
            "text/plain": [
              "<torch._C.Generator at 0x7f856999b750>"
            ]
          },
          "metadata": {},
          "execution_count": 16
        }
      ]
    },
    {
      "cell_type": "markdown",
      "source": [
        "## x가 3개일 경우 기본예시"
      ],
      "metadata": {
        "id": "moihnj_yk4Dh"
      }
    },
    {
      "cell_type": "code",
      "source": [
        "x1_train = torch.FloatTensor([[73], [93], [89], [96], [73]])\n",
        "x2_train = torch.FloatTensor([[80], [88], [91], [98], [66]])\n",
        "x3_train = torch.FloatTensor([[75], [93], [90], [100], [70]])\n",
        "y_train = torch.FloatTensor([[152], [185], [180], [196], [142]])\n",
        "\n",
        "# 가중치 w와 편향 b변수 선언, 초기값은 0으로 설정함\n",
        "w1 = torch.zeros(1, requires_grad=True)\n",
        "w2 = torch.zeros(1, requires_grad=True)\n",
        "w3 = torch.zeros(1, requires_grad=True)\n",
        "b = torch.zeros(1, requires_grad=True)\n",
        "\n",
        "\n",
        "print(\"x1_train:\",x1_train)\n",
        "print(\"x2_train:\",x2_train)\n",
        "print(\"x3_train:\",x3_train)\n",
        "print(\"y_train:\",y_train)"
      ],
      "metadata": {
        "id": "hZnjYLQplAKx",
        "colab": {
          "base_uri": "https://localhost:8080/"
        },
        "outputId": "3af1e84b-dd72-4d64-ef2b-ab8af8d4704d"
      },
      "execution_count": 17,
      "outputs": [
        {
          "output_type": "stream",
          "name": "stdout",
          "text": [
            "x1_train: tensor([[73.],\n",
            "        [93.],\n",
            "        [89.],\n",
            "        [96.],\n",
            "        [73.]])\n",
            "x2_train: tensor([[80.],\n",
            "        [88.],\n",
            "        [91.],\n",
            "        [98.],\n",
            "        [66.]])\n",
            "x3_train: tensor([[ 75.],\n",
            "        [ 93.],\n",
            "        [ 90.],\n",
            "        [100.],\n",
            "        [ 70.]])\n",
            "y_train: tensor([[152.],\n",
            "        [185.],\n",
            "        [180.],\n",
            "        [196.],\n",
            "        [142.]])\n"
          ]
        }
      ]
    },
    {
      "cell_type": "code",
      "source": [
        "optimizer = optim.SGD([w1,w2,w3,b], lr=1e-5)\n",
        "\n",
        "nb_epochs = 1000\n",
        "for epoch in range(nb_epochs + 1):\n",
        "  # H(x) 계산, 함수의 결과값\n",
        "  hypothesis = x1_train*w1 + x2_train*w2 + x3_train*w3  + b\n",
        "\n",
        "  # print(\"---------------------\")\n",
        "  # print(\"hypothesis:\",hypothesis)\n",
        "  # print(\"y_train:\",y_train)\n",
        "\n",
        "  cost = torch.mean((hypothesis - y_train)**2)\n",
        "\n",
        "  optimizer.zero_grad()\n",
        "  cost.backward()\n",
        "  optimizer.step()\n",
        "\n",
        "  if epoch % 100 == 0:\n",
        "    print('Epoch {:4d}/{} w1: {:3f} w2: {:.3f} w3: {:3f} b: {:.3f} Cost: {:.6f}'.format(\n",
        "        epoch, nb_epochs, w1.item(), w2.item(), w3.item(), b.item(), cost.item()\n",
        "    ))"
      ],
      "metadata": {
        "colab": {
          "base_uri": "https://localhost:8080/"
        },
        "id": "NnGtBu7RlorK",
        "outputId": "b21f4478-a319-41a4-b32a-6ea40526b018"
      },
      "execution_count": 18,
      "outputs": [
        {
          "output_type": "stream",
          "name": "stdout",
          "text": [
            "Epoch    0/1000 w1: 0.294012 w2: 0.294 w3: 0.297380 b: 0.003 Cost: 29661.800781\n",
            "Epoch  100/1000 w1: 0.673506 w2: 0.661 w3: 0.676232 b: 0.008 Cost: 1.563628\n",
            "Epoch  200/1000 w1: 0.678946 w2: 0.655 w3: 0.676785 b: 0.008 Cost: 1.497595\n",
            "Epoch  300/1000 w1: 0.684251 w2: 0.649 w3: 0.677306 b: 0.008 Cost: 1.435044\n",
            "Epoch  400/1000 w1: 0.689426 w2: 0.643 w3: 0.677796 b: 0.008 Cost: 1.375726\n",
            "Epoch  500/1000 w1: 0.694474 w2: 0.638 w3: 0.678256 b: 0.009 Cost: 1.319507\n",
            "Epoch  600/1000 w1: 0.699398 w2: 0.633 w3: 0.678687 b: 0.009 Cost: 1.266222\n",
            "Epoch  700/1000 w1: 0.704202 w2: 0.627 w3: 0.679089 b: 0.009 Cost: 1.215703\n",
            "Epoch  800/1000 w1: 0.708889 w2: 0.622 w3: 0.679465 b: 0.009 Cost: 1.167810\n",
            "Epoch  900/1000 w1: 0.713462 w2: 0.617 w3: 0.679813 b: 0.009 Cost: 1.122429\n",
            "Epoch 1000/1000 w1: 0.717924 w2: 0.613 w3: 0.680135 b: 0.009 Cost: 1.079390\n"
          ]
        }
      ]
    },
    {
      "cell_type": "code",
      "source": [
        "print('w1: {:3f} w2: {:.3f} w3: {:3f} b: {:.3f} Cost: {:.6f}'.format(\n",
        "    w1.item(), w2.item(), w3.item(), b.item(), cost.item()\n",
        "))"
      ],
      "metadata": {
        "colab": {
          "base_uri": "https://localhost:8080/"
        },
        "id": "eIZDINFjb79f",
        "outputId": "1cc04456-0112-488e-a27e-5ccf4132c2e1"
      },
      "execution_count": 19,
      "outputs": [
        {
          "output_type": "stream",
          "name": "stdout",
          "text": [
            "w1: 0.717924 w2: 0.613 w3: 0.680135 b: 0.009 Cost: 1.079390\n"
          ]
        }
      ]
    }
  ]
}